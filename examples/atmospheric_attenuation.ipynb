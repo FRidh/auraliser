{
 "cells": [
  {
   "cell_type": "markdown",
   "metadata": {},
   "source": [
    "# Atmospheric attenuation"
   ]
  },
  {
   "cell_type": "markdown",
   "metadata": {},
   "source": [
    "In this notebook we have a look at the error in applying the atmospheric attenuation to a signal."
   ]
  },
  {
   "cell_type": "code",
   "execution_count": 1,
   "metadata": {
    "collapsed": false
   },
   "outputs": [],
   "source": [
    "import numpy as np\n",
    "%matplotlib inline\n",
    "import matplotlib.pyplot as plt\n",
    "from auraliser.propagation import apply_atmospheric_absorption\n",
    "from acoustics import Signal\n",
    "from acoustics.atmosphere import Atmosphere"
   ]
  },
  {
   "cell_type": "code",
   "execution_count": 2,
   "metadata": {
    "collapsed": false
   },
   "outputs": [
    {
     "name": "stderr",
     "output_type": "stream",
     "text": [
      "/home/freddy/miniconda3/lib/python3.4/site-packages/IPython/parallel.py:13: ShimWarning: The `IPython.parallel` package has been deprecated. You should import from ipyparallel instead.\n",
      "  \"You should import from ipyparallel instead.\", ShimWarning)\n"
     ]
    },
    {
     "ename": "ImportError",
     "evalue": "No module named 'parallel'",
     "output_type": "error",
     "traceback": [
      "\u001b[1;31m---------------------------------------------------------------------------\u001b[0m",
      "\u001b[1;31mImportError\u001b[0m                               Traceback (most recent call last)",
      "\u001b[1;32m<ipython-input-2-deaa5b7ba413>\u001b[0m in \u001b[0;36m<module>\u001b[1;34m()\u001b[0m\n\u001b[1;32m----> 1\u001b[1;33m \u001b[1;32mfrom\u001b[0m \u001b[0mIPython\u001b[0m\u001b[1;33m.\u001b[0m\u001b[0mparallel\u001b[0m \u001b[1;32mimport\u001b[0m \u001b[0mClient\u001b[0m\u001b[1;33m\u001b[0m\u001b[0m\n\u001b[0m\u001b[0;32m      2\u001b[0m \u001b[0mclient\u001b[0m \u001b[1;33m=\u001b[0m \u001b[0mClient\u001b[0m\u001b[1;33m(\u001b[0m\u001b[1;33m)\u001b[0m\u001b[1;33m\u001b[0m\u001b[0m\n\u001b[0;32m      3\u001b[0m \u001b[0mlview\u001b[0m \u001b[1;33m=\u001b[0m \u001b[0mclient\u001b[0m\u001b[1;33m.\u001b[0m\u001b[0mload_balanced_view\u001b[0m\u001b[1;33m(\u001b[0m\u001b[1;33m)\u001b[0m\u001b[1;33m\u001b[0m\u001b[0m\n",
      "\u001b[1;31mImportError\u001b[0m: No module named 'parallel'"
     ]
    }
   ],
   "source": [
    "from IPython.parallel import Client\n",
    "client = Client()\n",
    "lview = client.load_balanced_view()"
   ]
  },
  {
   "cell_type": "code",
   "execution_count": null,
   "metadata": {
    "collapsed": false
   },
   "outputs": [],
   "source": [
    "def calculate_signal(kwargs):\n",
    "    \n",
    "    def _calculate(fs, frequency, distance, n_blocks, n_distances, duration): \n",
    "        from auraliser.propagation import apply_atmospheric_absorption\n",
    "        from acoustics import Signal\n",
    "        from acoustics.atmosphere import Atmosphere\n",
    "        import numpy as np\n",
    "        atmosphere = Atmosphere()\n",
    "\n",
    "        samples = int(fs*duration)\n",
    "        t = np.arange(samples) / fs\n",
    "\n",
    "        signal = Signal( np.sin(2.0*np.pi*frequency*t) , fs)\n",
    "\n",
    "        out = Signal( apply_atmospheric_absorption(signal, fs, atmosphere, distance*np.ones(samples), \n",
    "                                                   n_blocks=n_blocks, n_distances=n_distances) , fs)\n",
    "\n",
    "        att = atmosphere.attenuation_coefficient(frequency) * distance\n",
    "\n",
    "        difference = signal.leq() - out.leq()\n",
    "        return difference - att\n",
    "    \n",
    "    return _calculate(**kwargs)"
   ]
  },
  {
   "cell_type": "markdown",
   "metadata": {},
   "source": [
    "## Parameters"
   ]
  },
  {
   "cell_type": "code",
   "execution_count": null,
   "metadata": {
    "collapsed": false
   },
   "outputs": [],
   "source": [
    "params = dict()\n",
    "params['duration'] = 5.0\n",
    "params['fs'] = 10025\n",
    "params['frequency'] = 1000.0\n",
    "params['distance'] = 100.0\n",
    "params['n_blocks']= 512\n",
    "params['n_distances'] = 10"
   ]
  },
  {
   "cell_type": "code",
   "execution_count": null,
   "metadata": {
    "collapsed": false
   },
   "outputs": [],
   "source": [
    "def study(params, parameter, values):\n",
    "    \"\"\"Parameter study.\"\"\"\n",
    "    for value in values:\n",
    "        out = params.copy()\n",
    "        out[parameter] = value\n",
    "        yield out"
   ]
  },
  {
   "cell_type": "markdown",
   "metadata": {},
   "source": [
    "## Vary duration"
   ]
  },
  {
   "cell_type": "code",
   "execution_count": null,
   "metadata": {
    "collapsed": false
   },
   "outputs": [],
   "source": [
    "#values = [5.0, 10.0, 15.0, 20.0, 25.0, 30.0]\n",
    "values = [2.0, 4.0, 8.0, 16.0]\n",
    "parameters = list( study(params, 'duration', values) )\n",
    "out = lview.map(calculate_signal, parameters)"
   ]
  },
  {
   "cell_type": "code",
   "execution_count": null,
   "metadata": {
    "collapsed": false
   },
   "outputs": [],
   "source": [
    "fig = plt.figure()\n",
    "ax = fig.add_subplot(111)\n",
    "ax.plot(values, out)\n",
    "ax.set_title(\"Error in dB\")"
   ]
  },
  {
   "cell_type": "markdown",
   "metadata": {},
   "source": [
    "## Vary sample frequency"
   ]
  },
  {
   "cell_type": "code",
   "execution_count": null,
   "metadata": {
    "collapsed": false
   },
   "outputs": [],
   "source": [
    "values = [5000.0, 8000.0, 12000.0, 20000.0, 30000.0, 44100.0]\n",
    "parameters = list( study(params, 'fs', values) )\n",
    "out = lview.map(calculate_signal, parameters)"
   ]
  },
  {
   "cell_type": "code",
   "execution_count": null,
   "metadata": {
    "collapsed": false
   },
   "outputs": [],
   "source": [
    "fig = plt.figure()\n",
    "ax = fig.add_subplot(111)\n",
    "ax.plot(values, out)\n",
    "ax.set_title(\"Error in dB\")"
   ]
  },
  {
   "cell_type": "markdown",
   "metadata": {},
   "source": [
    "## Vary frequency"
   ]
  },
  {
   "cell_type": "code",
   "execution_count": null,
   "metadata": {
    "collapsed": false
   },
   "outputs": [],
   "source": [
    "values = [100.0, 200.0, 800.0, 1600.0, 3200.0, 6400.0]\n",
    "parameters = list( study(params, 'fs', values) )\n",
    "out = lview.map(calculate_signal, parameters)"
   ]
  },
  {
   "cell_type": "code",
   "execution_count": null,
   "metadata": {
    "collapsed": false
   },
   "outputs": [],
   "source": [
    "fig = plt.figure()\n",
    "ax = fig.add_subplot(111)\n",
    "ax.plot(values, out)\n",
    "ax.set_title(\"Error in dB\")"
   ]
  },
  {
   "cell_type": "markdown",
   "metadata": {},
   "source": [
    "## Vary distance"
   ]
  },
  {
   "cell_type": "code",
   "execution_count": null,
   "metadata": {
    "collapsed": false
   },
   "outputs": [],
   "source": [
    "values = [100.0, 200.0, 400.0, 800.0, 1600.0, 3200.0]\n",
    "parameters = list( study(params, 'distance', values) )\n",
    "out = lview.map(calculate_signal, parameters)"
   ]
  },
  {
   "cell_type": "code",
   "execution_count": null,
   "metadata": {
    "collapsed": false
   },
   "outputs": [],
   "source": [
    "fig = plt.figure()\n",
    "ax = fig.add_subplot(111)\n",
    "ax.plot(values, out)\n",
    "ax.set_title(\"Error in dB\")"
   ]
  },
  {
   "cell_type": "markdown",
   "metadata": {},
   "source": [
    "## Vary blocks"
   ]
  },
  {
   "cell_type": "code",
   "execution_count": null,
   "metadata": {
    "collapsed": false
   },
   "outputs": [],
   "source": [
    "values = [16, 32, 64, 128, 256, 512, 1024, 2048]\n",
    "parameters = list( study(params, 'n_blocks', values) )\n",
    "out = lview.map(calculate_signal, parameters)"
   ]
  },
  {
   "cell_type": "code",
   "execution_count": null,
   "metadata": {
    "collapsed": false
   },
   "outputs": [],
   "source": [
    "fig = plt.figure()\n",
    "ax = fig.add_subplot(111)\n",
    "ax.plot(values, out)\n",
    "ax.set_title(\"Error in dB\")"
   ]
  },
  {
   "cell_type": "markdown",
   "metadata": {},
   "source": [
    "## Vary amount of unique distances"
   ]
  },
  {
   "cell_type": "code",
   "execution_count": null,
   "metadata": {
    "collapsed": false
   },
   "outputs": [],
   "source": [
    "values = [2, 4, 8, 16, 32, 64]\n",
    "parameters = list( study(params, 'n_distances', values) )\n",
    "out = lview.map(calculate_signal, parameters)"
   ]
  },
  {
   "cell_type": "code",
   "execution_count": null,
   "metadata": {
    "collapsed": false
   },
   "outputs": [],
   "source": [
    "fig = plt.figure()\n",
    "ax = fig.add_subplot(111)\n",
    "ax.plot(values, out)\n",
    "ax.set_title(\"Error in dB\")"
   ]
  },
  {
   "cell_type": "code",
   "execution_count": null,
   "metadata": {
    "collapsed": false
   },
   "outputs": [],
   "source": [
    "#lview.shutdown(restart=True)"
   ]
  },
  {
   "cell_type": "code",
   "execution_count": null,
   "metadata": {
    "collapsed": false
   },
   "outputs": [],
   "source": []
  }
 ],
 "metadata": {
  "kernelspec": {
   "display_name": "Python 3",
   "language": "python",
   "name": "python3"
  },
  "language_info": {
   "codemirror_mode": {
    "name": "ipython",
    "version": 3
   },
   "file_extension": ".py",
   "mimetype": "text/x-python",
   "name": "python",
   "nbconvert_exporter": "python",
   "pygments_lexer": "ipython3",
   "version": "3.4.3"
  }
 },
 "nbformat": 4,
 "nbformat_minor": 0
}
