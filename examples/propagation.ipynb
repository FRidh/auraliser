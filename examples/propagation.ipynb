{
 "cells": [
  {
   "cell_type": "markdown",
   "metadata": {
    "collapsed": true
   },
   "source": [
    "# Propagation effects"
   ]
  },
  {
   "cell_type": "markdown",
   "metadata": {},
   "source": [
    "In this notebook we will have a look at the individuel propagation effects that can be included."
   ]
  },
  {
   "cell_type": "markdown",
   "metadata": {},
   "source": [
    "## Setup"
   ]
  },
  {
   "cell_type": "code",
   "execution_count": null,
   "metadata": {
    "collapsed": true
   },
   "outputs": [],
   "source": [
    "import numpy as np\n",
    "from acoustics.signal import OctaveBand\n",
    "from acoustics import Signal\n",
    "from auraliser import Auraliser, mono\n",
    "from auraliser.generator import Sine, Noise\n",
    "#import seaborn as sns\n",
    "from geometry import Point\n",
    "from IPython.display import Audio\n",
    "import matplotlib\n",
    "matplotlib.rcParams['figure.figsize'] = (9.0, 6.0)\n",
    "%matplotlib inline\n",
    "import logging\n",
    "logger = logging.getLogger()\n",
    "logger.setLevel(logging.INFO)\n",
    "from streaming import Stream\n",
    "from streaming.signal import constant"
   ]
  },
  {
   "cell_type": "code",
   "execution_count": null,
   "metadata": {
    "collapsed": true
   },
   "outputs": [],
   "source": [
    "fs = 44100.0      # Sample frequency\n",
    "duration = 20.      # Duration in seconds\n",
    "df = 50.0           # Frequency resolution (impedances reflections)\n",
    "nsamples = int(fs*duration)\n",
    "\n",
    "dt = 1.0/fs                             # Seconds per sample\n",
    "t = np.arange(0.0, duration, dt)        # Time vector\n",
    "\n",
    "frequency = 1000.0\n",
    "\n",
    "model = Auraliser(duration=duration)\n",
    "model.settings['fs'] = fs"
   ]
  },
  {
   "cell_type": "markdown",
   "metadata": {},
   "source": [
    "We will need a source"
   ]
  },
  {
   "cell_type": "code",
   "execution_count": null,
   "metadata": {
    "collapsed": true
   },
   "outputs": [],
   "source": [
    "speed = 100.0\n",
    "x = np.ones_like(t) * speed * (t - duration/2.0)    # Source moves along the x-axis.\n",
    "y = np.ones_like(t) * 0.01\n",
    "z = np.ones_like(t) * 200.0   # Altitude of source\n",
    "src = model.add_source(name='source', position=np.vstack((x,y,z)).T)\n",
    "#src = model.add_source(name='source', position=Point(0.0,0.0,0.0))\n",
    "subsrc = src.add_subsource(name='subsource')"
   ]
  },
  {
   "cell_type": "markdown",
   "metadata": {},
   "source": [
    "emitting a sine wave and pink noise"
   ]
  },
  {
   "cell_type": "code",
   "execution_count": null,
   "metadata": {
    "collapsed": true
   },
   "outputs": [],
   "source": [
    "sine = subsrc.add_virtualsource('sine', signal = Sine(frequency=frequency), level=145.)\n",
    "noise = subsrc.add_virtualsource('pink', signal = Noise(color='pink'), level=140.)"
   ]
  },
  {
   "cell_type": "markdown",
   "metadata": {},
   "source": [
    "and a receiver."
   ]
  },
  {
   "cell_type": "code",
   "execution_count": null,
   "metadata": {},
   "outputs": [],
   "source": [
    "rcv = model.add_receiver(name='receiver', position=Point(0.0,0.0,4.0))"
   ]
  },
  {
   "cell_type": "markdown",
   "metadata": {},
   "source": [
    "Because we would like to consider the propagation effects individually we turn them all of for now."
   ]
  },
  {
   "cell_type": "code",
   "execution_count": null,
   "metadata": {
    "collapsed": true
   },
   "outputs": [],
   "source": [
    "model.settings['spreading']['include'] = False\n",
    "model.settings['doppler']['include'] = False\n",
    "model.settings['atmospheric_absorption']['include'] = False\n",
    "model.settings['reflections']['include'] = False\n",
    "model.settings['turbulence']['include'] = False\n",
    "\n",
    "model.settings['doppler']['purge_zeros'] = False"
   ]
  },
  {
   "cell_type": "code",
   "execution_count": null,
   "metadata": {
    "collapsed": true
   },
   "outputs": [],
   "source": [
    "ylim = (0.0, 4000.0)"
   ]
  },
  {
   "cell_type": "code",
   "execution_count": null,
   "metadata": {},
   "outputs": [],
   "source": [
    "model.settings"
   ]
  },
  {
   "cell_type": "markdown",
   "metadata": {},
   "source": [
    "## Effects"
   ]
  },
  {
   "cell_type": "markdown",
   "metadata": {},
   "source": [
    "Now that we have a basic model to work with we look at the propagation effects one by one."
   ]
  },
  {
   "cell_type": "code",
   "execution_count": null,
   "metadata": {},
   "outputs": [],
   "source": [
    "signal = Signal(mono( rcv.auralise() ).toarray(), fs)"
   ]
  },
  {
   "cell_type": "code",
   "execution_count": null,
   "metadata": {},
   "outputs": [],
   "source": [
    "signal"
   ]
  },
  {
   "cell_type": "code",
   "execution_count": null,
   "metadata": {},
   "outputs": [],
   "source": [
    "Audio(data=signal, rate=fs)"
   ]
  },
  {
   "cell_type": "markdown",
   "metadata": {},
   "source": [
    "### Distance reduction"
   ]
  },
  {
   "cell_type": "markdown",
   "metadata": {},
   "source": [
    "In the far field sound spreads out spherically. This results in a decrease in amplitude with increase in distance."
   ]
  },
  {
   "cell_type": "code",
   "execution_count": null,
   "metadata": {},
   "outputs": [],
   "source": [
    "model.settings['spreading']['include'] = True\n",
    "signal = Signal(mono( rcv.auralise() ).toarray(), fs)\n",
    "model.settings['spreading']['include'] = False"
   ]
  },
  {
   "cell_type": "code",
   "execution_count": null,
   "metadata": {},
   "outputs": [],
   "source": [
    "signal.shape"
   ]
  },
  {
   "cell_type": "code",
   "execution_count": null,
   "metadata": {},
   "outputs": [],
   "source": [
    "Audio(data=signal, rate=fs)"
   ]
  },
  {
   "cell_type": "code",
   "execution_count": null,
   "metadata": {
    "scrolled": false
   },
   "outputs": [],
   "source": [
    "_ = signal.plot_levels()"
   ]
  },
  {
   "cell_type": "markdown",
   "metadata": {},
   "source": [
    "### Time delay"
   ]
  },
  {
   "cell_type": "markdown",
   "metadata": {},
   "source": [
    "Sound has a limited velocity resulting in a delay between emission and receivement. Movement of source and/or receiver can result in a variable time delay.\n",
    "\n",
    "Besides the obvious time delay this also results in a Doppler shift in frequency."
   ]
  },
  {
   "cell_type": "code",
   "execution_count": null,
   "metadata": {},
   "outputs": [],
   "source": [
    "model.settings['doppler']['include'] = True\n",
    "signal = Signal(mono( rcv.auralise() ).toarray(), fs)\n",
    "model.settings['doppler']['include'] = False"
   ]
  },
  {
   "cell_type": "code",
   "execution_count": null,
   "metadata": {},
   "outputs": [],
   "source": [
    "Audio(data=signal, rate=fs)"
   ]
  },
  {
   "cell_type": "code",
   "execution_count": null,
   "metadata": {},
   "outputs": [],
   "source": [
    "_ = signal.plot_spectrogram(ylim=ylim)"
   ]
  },
  {
   "cell_type": "markdown",
   "metadata": {},
   "source": [
    "### Atmospheric absorption"
   ]
  },
  {
   "cell_type": "markdown",
   "metadata": {},
   "source": [
    "Relaxation effects in the atmosphere result in additional attenuatation. "
   ]
  },
  {
   "cell_type": "code",
   "execution_count": null,
   "metadata": {},
   "outputs": [],
   "source": [
    "model.settings['atmospheric_absorption']['include'] = True\n",
    "signal = Signal(mono( rcv.auralise() ).toarray(), fs)\n",
    "model.settings['atmospheric_absorption']['include'] = False"
   ]
  },
  {
   "cell_type": "code",
   "execution_count": null,
   "metadata": {},
   "outputs": [],
   "source": [
    "Audio(data=signal, rate=fs)"
   ]
  },
  {
   "cell_type": "code",
   "execution_count": null,
   "metadata": {},
   "outputs": [],
   "source": [
    "_ = signal.plot_spectrogram(ylim=ylim)"
   ]
  },
  {
   "cell_type": "code",
   "execution_count": null,
   "metadata": {},
   "outputs": [],
   "source": [
    "_ = signal.plot_levels()"
   ]
  },
  {
   "cell_type": "markdown",
   "metadata": {},
   "source": [
    "### Atmospheric turbulence"
   ]
  },
  {
   "cell_type": "code",
   "execution_count": null,
   "metadata": {
    "scrolled": false
   },
   "outputs": [],
   "source": [
    "model.settings['turbulence']['include'] = True\n",
    "signal = Signal(mono( rcv.auralise() ).toarray(), fs)\n",
    "model.settings['turbulence']['include'] = False"
   ]
  },
  {
   "cell_type": "code",
   "execution_count": null,
   "metadata": {},
   "outputs": [],
   "source": [
    "Audio(data=signal, rate=fs)"
   ]
  },
  {
   "cell_type": "code",
   "execution_count": null,
   "metadata": {},
   "outputs": [],
   "source": [
    "_ = signal.plot_spectrogram(ylim=ylim)"
   ]
  },
  {
   "cell_type": "code",
   "execution_count": null,
   "metadata": {},
   "outputs": [],
   "source": [
    "_ = signal.plot_levels()"
   ]
  },
  {
   "cell_type": "code",
   "execution_count": null,
   "metadata": {},
   "outputs": [],
   "source": [
    "signal.leq()"
   ]
  },
  {
   "cell_type": "code",
   "execution_count": null,
   "metadata": {},
   "outputs": [],
   "source": [
    "_ = signal.instantaneous_frequency().pick(3.0, 3.5).plot(ylim=(950, 1050))"
   ]
  },
  {
   "cell_type": "markdown",
   "metadata": {},
   "source": [
    "### Ground reflection\n",
    "\n",
    "A ground reflection without a propagation delay."
   ]
  },
  {
   "cell_type": "code",
   "execution_count": null,
   "metadata": {
    "collapsed": true
   },
   "outputs": [],
   "source": [
    "from ism import Wall\n",
    "frequencies = np.arange(0.0, fs/2.0, df)\n",
    "impedance = np.ones_like(frequencies) + 1j*np.ones_like(frequencies)\n",
    "\n",
    "groundcorners1 = [Point(-100.0, -100.0, 0.0), \n",
    "                  Point(100.0, -100.0, 0.0), \n",
    "                  Point(100.0, 100.0, 0.0), \n",
    "                  Point(-100.0, 100.0, 0.0) ]\n",
    "ground1 = Wall(groundcorners1, Point(0.0, 0.0, 0.0), impedance)\n",
    "\n",
    "model.geometry.walls = [ground1]"
   ]
  },
  {
   "cell_type": "code",
   "execution_count": null,
   "metadata": {},
   "outputs": [],
   "source": [
    "model.settings['reflections']['include'] = True\n",
    "model.settings['reflections']['force_hard'] = True\n",
    "\n",
    "signal = Signal(mono( rcv.auralise() ).toarray(), fs)\n",
    "\n",
    "model.settings['reflections']['include'] = False\n",
    "model.settings['reflections']['force_hard'] = False"
   ]
  },
  {
   "cell_type": "code",
   "execution_count": null,
   "metadata": {},
   "outputs": [],
   "source": [
    "Audio(data=signal, rate=fs)"
   ]
  },
  {
   "cell_type": "code",
   "execution_count": null,
   "metadata": {},
   "outputs": [],
   "source": [
    "_ = signal.plot_spectrogram(ylim=ylim)"
   ]
  },
  {
   "cell_type": "markdown",
   "metadata": {},
   "source": [
    "Because the propagation delay is not included, we do not get any interference."
   ]
  },
  {
   "cell_type": "code",
   "execution_count": null,
   "metadata": {},
   "outputs": [],
   "source": [
    "_ = signal.plot_levels()"
   ]
  },
  {
   "cell_type": "markdown",
   "metadata": {
    "collapsed": true
   },
   "source": [
    "### All effects"
   ]
  },
  {
   "cell_type": "markdown",
   "metadata": {},
   "source": [
    "Finally, we enable all propagation effects."
   ]
  },
  {
   "cell_type": "code",
   "execution_count": null,
   "metadata": {},
   "outputs": [],
   "source": [
    "model.settings['spreading']['include'] = True\n",
    "model.settings['doppler']['include'] = True\n",
    "model.settings['atmospheric_absorption']['include'] = True\n",
    "model.settings['reflections']['include'] = True\n",
    "model.settings['reflections']['force_hard'] = True\n",
    "model.settings['turbulence']['include'] = True\n",
    "\n",
    "\n",
    "signal = Signal(mono( rcv.auralise() ).toarray(), fs)\n",
    "\n",
    "model.settings['spreading']['include'] = False\n",
    "model.settings['doppler']['include'] = False\n",
    "model.settings['atmospheric_absorption']['include'] = False\n",
    "model.settings['reflections']['include'] = False\n",
    "model.settings['reflections']['force_hard'] = False\n",
    "model.settings['turbulence']['include'] = False"
   ]
  },
  {
   "cell_type": "code",
   "execution_count": null,
   "metadata": {},
   "outputs": [],
   "source": [
    "signal.samples"
   ]
  },
  {
   "cell_type": "code",
   "execution_count": null,
   "metadata": {},
   "outputs": [],
   "source": [
    "Audio(data=signal, rate=fs)"
   ]
  },
  {
   "cell_type": "code",
   "execution_count": null,
   "metadata": {},
   "outputs": [],
   "source": [
    "_ = signal.plot_spectrogram(ylim=ylim, clim=(-20, +70))"
   ]
  },
  {
   "cell_type": "code",
   "execution_count": null,
   "metadata": {},
   "outputs": [],
   "source": [
    "_ = signal.plot_levels()"
   ]
  },
  {
   "cell_type": "code",
   "execution_count": null,
   "metadata": {
    "collapsed": true
   },
   "outputs": [],
   "source": []
  }
 ],
 "metadata": {
  "kernelspec": {
   "display_name": "Python 3",
   "language": "python",
   "name": "python3"
  },
  "language_info": {
   "codemirror_mode": {
    "name": "ipython",
    "version": 3
   },
   "file_extension": ".py",
   "mimetype": "text/x-python",
   "name": "python",
   "nbconvert_exporter": "python",
   "pygments_lexer": "ipython3",
   "version": "3.6.1"
  }
 },
 "nbformat": 4,
 "nbformat_minor": 1
}
