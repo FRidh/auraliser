{
 "metadata": {
  "name": "",
  "signature": "sha256:e72f0cc8af4982c489df21d48a28045781411570ca3f57fe601d6548b08da69b"
 },
 "nbformat": 3,
 "nbformat_minor": 0,
 "worksheets": [
  {
   "cells": [
    {
     "cell_type": "heading",
     "level": 1,
     "metadata": {},
     "source": [
      "Doppler shift"
     ]
    },
    {
     "cell_type": "markdown",
     "metadata": {},
     "source": [
      "In this notebook we will have a look at the Doppler shift."
     ]
    },
    {
     "cell_type": "code",
     "collapsed": false,
     "input": [
      "from auraliser import Auraliser\n",
      "import numpy as np\n",
      "from IPython.lib.display import Audio\n",
      "import matplotlib\n",
      "%matplotlib inline\n",
      "import matplotlib.pyplot as plt\n",
      "import logging\n",
      "logger = logging.getLogger()\n",
      "logger.setLevel(logging.INFO)"
     ],
     "language": "python",
     "metadata": {},
     "outputs": [
      {
       "output_type": "stream",
       "stream": "stderr",
       "text": [
        "/home/freddy/anaconda3/lib/python3.4/site-packages/numba/tests/__init__.py:393: UserWarning: Failed to enable faulthandler due to:\n",
        "IOStream has no fileno.\n",
        "  warnings.warn(msg.format(err=e))\n"
       ]
      }
     ],
     "prompt_number": 1
    },
    {
     "cell_type": "code",
     "collapsed": false,
     "input": [
      "fs = 24000.0      # Sample frequency\n",
      "duration = 10.      # Duration in seconds\n",
      "df = 50.0           # Frequency resolution (impedances reflections)\n",
      "\n",
      "dt = 1.0/fs                             # Seconds per sample\n",
      "t = np.arange(0.0, duration, dt)        # Time vector\n",
      "\n",
      "model = Auraliser(duration=duration, sample_frequency=fs)"
     ],
     "language": "python",
     "metadata": {},
     "outputs": [],
     "prompt_number": 2
    },
    {
     "cell_type": "code",
     "collapsed": false,
     "input": [
      "velocity = 80.0\n",
      "x = np.ones_like(t) * velocity * (t - duration/2.0)    # Source moves along the x-axis.\n",
      "y = np.ones_like(t) * 0.01\n",
      "z = np.ones_like(t) * 80.0   # Altitude of source\n",
      "src = model.add_source(name='source', position=np.vstack((x,y,z)).T)"
     ],
     "language": "python",
     "metadata": {},
     "outputs": [],
     "prompt_number": 3
    },
    {
     "cell_type": "code",
     "collapsed": false,
     "input": [
      "subsrc = src.add_subsource(name='subsource')"
     ],
     "language": "python",
     "metadata": {},
     "outputs": [],
     "prompt_number": 4
    },
    {
     "cell_type": "code",
     "collapsed": false,
     "input": [
      "rcv = model.add_receiver(name='receiver', position=(100.0,0.0,0.0))"
     ],
     "language": "python",
     "metadata": {},
     "outputs": [],
     "prompt_number": 5
    },
    {
     "cell_type": "markdown",
     "metadata": {},
     "source": [
      "Since we're only interested in the Doppler shift we disable all other propagation effects."
     ]
    },
    {
     "cell_type": "code",
     "collapsed": false,
     "input": [
      "model.settings['spreading']['include'] = False\n",
      "model.settings['atmospheric_absorption']['include'] = False\n",
      "model.settings['reflections']['include'] = False\n",
      "model.settings['turbulence']['include'] = False"
     ],
     "language": "python",
     "metadata": {},
     "outputs": [],
     "prompt_number": 6
    },
    {
     "cell_type": "markdown",
     "metadata": {},
     "source": [
      "We ensure that the Doppler shift is enabled, both the change in amplitude as well as the change in time/phase."
     ]
    },
    {
     "cell_type": "code",
     "collapsed": false,
     "input": [
      "model.settings['doppler']['include'] = True\n",
      "model.settings['doppler']['amplitude'] = True\n",
      "model.settings['doppler']['frequency'] = True"
     ],
     "language": "python",
     "metadata": {},
     "outputs": [],
     "prompt_number": 7
    },
    {
     "cell_type": "code",
     "collapsed": false,
     "input": [
      "from auraliser.generator import Sine\n",
      "sine = subsrc.add_virtualsource('sine')\n",
      "sine.signal = Sine(frequency=400.0)\n",
      "signal = rcv.auralise()\n",
      "Audio(data=signal, rate=signal.sample_frequency)"
     ],
     "language": "python",
     "metadata": {},
     "outputs": [
      {
       "ename": "ImportError",
       "evalue": "cannot import name 'WhiteNoise'",
       "output_type": "pyerr",
       "traceback": [
        "\u001b[1;31m---------------------------------------------------------------------------\u001b[0m\n\u001b[1;31mImportError\u001b[0m                               Traceback (most recent call last)",
        "\u001b[1;32m<ipython-input-8-230df9f04b07>\u001b[0m in \u001b[0;36m<module>\u001b[1;34m()\u001b[0m\n\u001b[1;32m----> 1\u001b[1;33m \u001b[1;32mfrom\u001b[0m \u001b[0mauraliser\u001b[0m\u001b[1;33m.\u001b[0m\u001b[0mgenerator\u001b[0m \u001b[1;32mimport\u001b[0m \u001b[0mSine\u001b[0m\u001b[1;33m,\u001b[0m \u001b[0mWhiteNoise\u001b[0m\u001b[1;33m,\u001b[0m \u001b[0mWhiteBand\u001b[0m\u001b[1;33m,\u001b[0m \u001b[0mWhiteOctaveBands\u001b[0m\u001b[1;33m\u001b[0m\u001b[0m\n\u001b[0m\u001b[0;32m      2\u001b[0m \u001b[0msine\u001b[0m \u001b[1;33m=\u001b[0m \u001b[0msubsrc\u001b[0m\u001b[1;33m.\u001b[0m\u001b[0madd_virtualsource\u001b[0m\u001b[1;33m(\u001b[0m\u001b[1;34m'sine'\u001b[0m\u001b[1;33m)\u001b[0m\u001b[1;33m\u001b[0m\u001b[0m\n\u001b[0;32m      3\u001b[0m \u001b[0msine\u001b[0m\u001b[1;33m.\u001b[0m\u001b[0msignal\u001b[0m \u001b[1;33m=\u001b[0m \u001b[0mSine\u001b[0m\u001b[1;33m(\u001b[0m\u001b[0mfrequency\u001b[0m\u001b[1;33m=\u001b[0m\u001b[1;36m400.0\u001b[0m\u001b[1;33m)\u001b[0m\u001b[1;33m\u001b[0m\u001b[0m\n\u001b[0;32m      4\u001b[0m \u001b[0msignal\u001b[0m \u001b[1;33m=\u001b[0m \u001b[0mrcv\u001b[0m\u001b[1;33m.\u001b[0m\u001b[0mauralise\u001b[0m\u001b[1;33m(\u001b[0m\u001b[1;33m)\u001b[0m\u001b[1;33m\u001b[0m\u001b[0m\n\u001b[0;32m      5\u001b[0m \u001b[0mAudio\u001b[0m\u001b[1;33m(\u001b[0m\u001b[0mdata\u001b[0m\u001b[1;33m=\u001b[0m\u001b[0msignal\u001b[0m\u001b[1;33m,\u001b[0m \u001b[0mrate\u001b[0m\u001b[1;33m=\u001b[0m\u001b[0msignal\u001b[0m\u001b[1;33m.\u001b[0m\u001b[0msample_frequency\u001b[0m\u001b[1;33m)\u001b[0m\u001b[1;33m\u001b[0m\u001b[0m\n",
        "\u001b[1;31mImportError\u001b[0m: cannot import name 'WhiteNoise'"
       ]
      }
     ],
     "prompt_number": 8
    },
    {
     "cell_type": "markdown",
     "metadata": {},
     "source": [
      "The change in pitch is clearly audible and can also be seen in the spectrogram."
     ]
    },
    {
     "cell_type": "code",
     "collapsed": false,
     "input": [
      "fig = signal.spectrogram()"
     ],
     "language": "python",
     "metadata": {},
     "outputs": []
    },
    {
     "cell_type": "markdown",
     "metadata": {},
     "source": [
      "Looking at the level as function of time we can see that the level is high when the source is moving towards the receiver and low when the source moves away from the receiver."
     ]
    },
    {
     "cell_type": "code",
     "collapsed": false,
     "input": [
      "fig = signal.plot_leq()"
     ],
     "language": "python",
     "metadata": {},
     "outputs": []
    },
    {
     "cell_type": "markdown",
     "metadata": {},
     "source": [
      "The spectrum shows two tones with an overlap in between."
     ]
    },
    {
     "cell_type": "code",
     "collapsed": false,
     "input": [
      "fig = signal.plot_spectrum()"
     ],
     "language": "python",
     "metadata": {},
     "outputs": []
    }
   ],
   "metadata": {}
  }
 ]
}